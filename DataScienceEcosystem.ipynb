{
 "cells": [
  {
   "cell_type": "markdown",
   "id": "c97afe00-49fb-47e7-90ac-9d6ba1e54bcb",
   "metadata": {},
   "source": [
    "# Data Science Tools and Ecosystem #"
   ]
  },
  {
   "cell_type": "markdown",
   "id": "8f75b506-419a-4ef3-a101-538b707dac79",
   "metadata": {},
   "source": [
    "*In this notebook, Data Science Tools and Ecosystem are summarized*"
   ]
  },
  {
   "cell_type": "markdown",
   "id": "086a2606-ea3d-4f4e-98f1-4db4348391aa",
   "metadata": {},
   "source": [
    "**Objectives**\n",
    "<ul>\n",
    "  <li>Introduction</li>\n",
    "  <li>Popular languages and libraries</li>\n",
    "  <li>arithmethic expressionss</li>\n",
    "</ul>  "
   ]
  },
  {
   "cell_type": "markdown",
   "id": "3ee3a2a6-c3e3-4306-93aa-462a15dc5fad",
   "metadata": {},
   "source": []
  },
  {
   "cell_type": "markdown",
   "id": "a6fe0527-f5c2-415a-a180-8a5a07914c35",
   "metadata": {},
   "source": [
    "Some of the popular languages that Data Scientists use are:\n",
    "<ol>\n",
    "  <li>Phyton</li>\n",
    "  <li>R</li>\n",
    "  <li>SQL</li>\n",
    "  <li>Js</li>\n",
    "</ol>  "
   ]
  },
  {
   "cell_type": "markdown",
   "id": "eb65a6b8-4875-4b74-b105-4636fd259ffb",
   "metadata": {},
   "source": [
    "*Some of the commonly used libraries used by Data Scientists include:*\n",
    "<ol>\n",
    "  <li>Pandas</li>\n",
    "  <li>Numpy</li>\n",
    "  <li>Sqipy</li>\n",
    "  <li>Tensorflow</li>\n",
    "</ol>  "
   ]
  },
  {
   "cell_type": "markdown",
   "id": "891f681b-3a06-484e-82c5-c767d38775e4",
   "metadata": {},
   "source": [
    "<table style=\"width:30%\">\n",
    "  <tr>\n",
    "    <th>Data Science Tools</th>\n",
    "     </tr>\n",
    "  <tr>\n",
    "    <td>RStudio</td>\n",
    "      </tr>\n",
    "  <tr>\n",
    "    <td>Apache Spark</td>\n",
    "  </tr>\n",
    "</table>"
   ]
  },
  {
   "cell_type": "markdown",
   "id": "02e7b41f-31b2-47c3-8da3-9d641e9139e0",
   "metadata": {},
   "source": [
    "### Below are a few examples of evaluating arithmetic expressions in Python ###"
   ]
  },
  {
   "cell_type": "markdown",
   "id": "921ea6e8-be91-447c-8db7-b87cbe62870d",
   "metadata": {},
   "source": [
    "*This a simple arithmetic expression to mutiply then add integers*"
   ]
  },
  {
   "cell_type": "code",
   "execution_count": 5,
   "id": "28dcb65c-1b13-410e-befa-f73c77b5f1c7",
   "metadata": {},
   "outputs": [
    {
     "name": "stdout",
     "output_type": "stream",
     "text": [
      "17\n"
     ]
    }
   ],
   "source": [
    "print((3*4)+5)"
   ]
  },
  {
   "cell_type": "markdown",
   "id": "52961b6d-4144-498b-a9b8-78b6fbcf051e",
   "metadata": {},
   "source": [
    "*This will convert 200 minutes to hours by diving by 60*"
   ]
  },
  {
   "cell_type": "code",
   "execution_count": 21,
   "id": "14d5d62e-a1d5-480c-b4ba-8a7ed7155c65",
   "metadata": {},
   "outputs": [
    {
     "name": "stdout",
     "output_type": "stream",
     "text": [
      "3.3333333333333335\n"
     ]
    }
   ],
   "source": [
    "minutes = 200\n",
    "hours   = 60\n",
    "\n",
    "print(minutes/hours)"
   ]
  },
  {
   "cell_type": "code",
   "execution_count": null,
   "id": "82cf4822-e661-448e-a416-77d9d8a47962",
   "metadata": {},
   "outputs": [],
   "source": []
  }
 ],
 "metadata": {
  "kernelspec": {
   "display_name": "Python",
   "language": "python",
   "name": "conda-env-python-py"
  },
  "language_info": {
   "codemirror_mode": {
    "name": "ipython",
    "version": 3
   },
   "file_extension": ".py",
   "mimetype": "text/x-python",
   "name": "python",
   "nbconvert_exporter": "python",
   "pygments_lexer": "ipython3",
   "version": "3.7.12"
  }
 },
 "nbformat": 4,
 "nbformat_minor": 5
}
